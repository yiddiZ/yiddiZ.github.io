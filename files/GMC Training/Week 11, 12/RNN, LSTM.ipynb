{
 "cells": [
  {
   "cell_type": "code",
   "execution_count": 1,
   "metadata": {},
   "outputs": [],
   "source": [
    "import matplotlib.pyplot as plt\n",
    "import numpy as np\n",
    "import pandas as pd\n",
    "import tensorflow as tf\n",
    "from tensorflow import keras\n",
    "from sklearn.model_selection import train_test_split"
   ]
  },
  {
   "cell_type": "code",
   "execution_count": 2,
   "metadata": {},
   "outputs": [],
   "source": [
    "goog = pd.read_csv('GOOG.csv')"
   ]
  },
  {
   "cell_type": "code",
   "execution_count": 3,
   "metadata": {},
   "outputs": [
    {
     "data": {
      "text/html": [
       "<div>\n",
       "<style scoped>\n",
       "    .dataframe tbody tr th:only-of-type {\n",
       "        vertical-align: middle;\n",
       "    }\n",
       "\n",
       "    .dataframe tbody tr th {\n",
       "        vertical-align: top;\n",
       "    }\n",
       "\n",
       "    .dataframe thead th {\n",
       "        text-align: right;\n",
       "    }\n",
       "</style>\n",
       "<table border=\"1\" class=\"dataframe\">\n",
       "  <thead>\n",
       "    <tr style=\"text-align: right;\">\n",
       "      <th></th>\n",
       "      <th>Date</th>\n",
       "      <th>Open</th>\n",
       "      <th>High</th>\n",
       "      <th>Low</th>\n",
       "      <th>Close</th>\n",
       "      <th>Adj Close</th>\n",
       "      <th>Volume</th>\n",
       "    </tr>\n",
       "  </thead>\n",
       "  <tbody>\n",
       "    <tr>\n",
       "      <th>0</th>\n",
       "      <td>2004-08-19</td>\n",
       "      <td>49.813286</td>\n",
       "      <td>51.835709</td>\n",
       "      <td>47.800831</td>\n",
       "      <td>49.982655</td>\n",
       "      <td>49.982655</td>\n",
       "      <td>44871300</td>\n",
       "    </tr>\n",
       "    <tr>\n",
       "      <th>1</th>\n",
       "      <td>2004-08-20</td>\n",
       "      <td>50.316402</td>\n",
       "      <td>54.336334</td>\n",
       "      <td>50.062355</td>\n",
       "      <td>53.952770</td>\n",
       "      <td>53.952770</td>\n",
       "      <td>22942800</td>\n",
       "    </tr>\n",
       "    <tr>\n",
       "      <th>2</th>\n",
       "      <td>2004-08-23</td>\n",
       "      <td>55.168217</td>\n",
       "      <td>56.528118</td>\n",
       "      <td>54.321388</td>\n",
       "      <td>54.495735</td>\n",
       "      <td>54.495735</td>\n",
       "      <td>18342800</td>\n",
       "    </tr>\n",
       "    <tr>\n",
       "      <th>3</th>\n",
       "      <td>2004-08-24</td>\n",
       "      <td>55.412300</td>\n",
       "      <td>55.591629</td>\n",
       "      <td>51.591621</td>\n",
       "      <td>52.239193</td>\n",
       "      <td>52.239193</td>\n",
       "      <td>15319700</td>\n",
       "    </tr>\n",
       "    <tr>\n",
       "      <th>4</th>\n",
       "      <td>2004-08-25</td>\n",
       "      <td>52.284027</td>\n",
       "      <td>53.798351</td>\n",
       "      <td>51.746044</td>\n",
       "      <td>52.802086</td>\n",
       "      <td>52.802086</td>\n",
       "      <td>9232100</td>\n",
       "    </tr>\n",
       "  </tbody>\n",
       "</table>\n",
       "</div>"
      ],
      "text/plain": [
       "         Date       Open       High        Low      Close  Adj Close    Volume\n",
       "0  2004-08-19  49.813286  51.835709  47.800831  49.982655  49.982655  44871300\n",
       "1  2004-08-20  50.316402  54.336334  50.062355  53.952770  53.952770  22942800\n",
       "2  2004-08-23  55.168217  56.528118  54.321388  54.495735  54.495735  18342800\n",
       "3  2004-08-24  55.412300  55.591629  51.591621  52.239193  52.239193  15319700\n",
       "4  2004-08-25  52.284027  53.798351  51.746044  52.802086  52.802086   9232100"
      ]
     },
     "execution_count": 3,
     "metadata": {},
     "output_type": "execute_result"
    }
   ],
   "source": [
    "goog.head()"
   ]
  },
  {
   "cell_type": "code",
   "execution_count": 4,
   "metadata": {},
   "outputs": [
    {
     "data": {
      "text/plain": [
       "Date         0\n",
       "Open         0\n",
       "High         0\n",
       "Low          0\n",
       "Close        0\n",
       "Adj Close    0\n",
       "Volume       0\n",
       "dtype: int64"
      ]
     },
     "execution_count": 4,
     "metadata": {},
     "output_type": "execute_result"
    }
   ],
   "source": [
    "goog.isnull().sum()"
   ]
  },
  {
   "cell_type": "code",
   "execution_count": null,
   "metadata": {},
   "outputs": [],
   "source": [
    "plt.figure(figsize=(12,8))\n",
    "plt.plot(goog['Close'], label='Close')\n",
    "plt.legend(loc='best')\n",
    "plt.show()"
   ]
  },
  {
   "cell_type": "code",
   "execution_count": 58,
   "metadata": {},
   "outputs": [],
   "source": [
    "goog_close = goog['Close'].to_numpy()"
   ]
  },
  {
   "cell_type": "code",
   "execution_count": 59,
   "metadata": {},
   "outputs": [
    {
     "data": {
      "text/plain": [
       "(3932,)"
      ]
     },
     "execution_count": 59,
     "metadata": {},
     "output_type": "execute_result"
    }
   ],
   "source": [
    "goog_close.shape"
   ]
  },
  {
   "cell_type": "markdown",
   "metadata": {},
   "source": [
    "## 1. Moving Average"
   ]
  },
  {
   "cell_type": "code",
   "execution_count": null,
   "metadata": {},
   "outputs": [],
   "source": [
    "short = 42\n",
    "long = 252\n",
    "\n",
    "mavgs = goog['Close'].rolling(short).mean()\n",
    "mavgl = goog['Close'].rolling(long).mean()\n",
    "\n",
    "plt.figure(figsize = (12,8))\n",
    "plt.plot(mavgs, 'b', label = 'Short Term')\n",
    "plt.plot(mavgl, 'r', label = 'Long Term')\n",
    "plt.legend(loc='best')\n",
    "plt.show()"
   ]
  },
  {
   "cell_type": "markdown",
   "metadata": {},
   "source": [
    "## 2. Stock Prediction"
   ]
  },
  {
   "cell_type": "markdown",
   "metadata": {},
   "source": [
    "### normalize the stock price (graded)"
   ]
  },
  {
   "cell_type": "code",
   "execution_count": null,
   "metadata": {},
   "outputs": [],
   "source": [
    "goog_close = ???"
   ]
  },
  {
   "cell_type": "markdown",
   "metadata": {},
   "source": [
    "### Write a function that outputs X and y with a sequence input and a window size (graded)"
   ]
  },
  {
   "cell_type": "code",
   "execution_count": null,
   "metadata": {},
   "outputs": [],
   "source": [
    "# replace \"???\" by your code\n",
    "\n",
    "def matrization(seq, window):\n",
    "    seq_len = seq.shape[0]\n",
    "    M = np.zeros(seq_len-window, window+1) #define a matrix with certain size\n",
    "    for i in range(???):\n",
    "        ???\n",
    "    return M(:,:-1), M(:,-1) # returns the first window-1 columns to X, and last column to y"
   ]
  },
  {
   "cell_type": "code",
   "execution_count": null,
   "metadata": {},
   "outputs": [],
   "source": [
    "X, y = matrization(goog_close, 10)"
   ]
  },
  {
   "cell_type": "code",
   "execution_count": null,
   "metadata": {},
   "outputs": [],
   "source": [
    "# reserve the last 10% for model testing\n",
    "\n",
    "seq_len = goog.shape[0]\n",
    "test_size = int(0.9*seq_len)\n",
    "\n",
    "X_new, y_new = X[:test_size, :], y[:test_size]\n",
    "X_test, y_test = X[test_size:, :], y[test_size:]"
   ]
  },
  {
   "cell_type": "code",
   "execution_count": null,
   "metadata": {},
   "outputs": [],
   "source": [
    "X_train, X_validation, y_train, y_validation = train_test_split(X_new, y_new, test_size = 0.2)"
   ]
  },
  {
   "cell_type": "code",
   "execution_count": null,
   "metadata": {},
   "outputs": [],
   "source": [
    "mirrored_strategy = tf.distribute.MirroredStrategy(\n",
    "    cross_device_ops=tf.distribute.HierarchicalCopyAllReduce())"
   ]
  },
  {
   "cell_type": "markdown",
   "metadata": {},
   "source": [
    "### Building your standard neuron model (graded)"
   ]
  },
  {
   "cell_type": "code",
   "execution_count": null,
   "metadata": {},
   "outputs": [],
   "source": [
    "# no need to run mirror strategy if you are using only 1 GPU, or you do not have GPU\n",
    "\n",
    "with mirrored_strategy.scope():\n",
    "    model = keras.models.Sequential([\n",
    "        keras.layers.???(input_shape=[???]),\n",
    "        ???\n",
    "    ])\n",
    "    \n",
    "model.summary()\n",
    "model.compile(loss=???, optimizer=\"adam\")"
   ]
  },
  {
   "cell_type": "code",
   "execution_count": null,
   "metadata": {},
   "outputs": [],
   "source": [
    "history = model.fit(X_train, y_train, epochs=50,\n",
    "                    validation_data=(X_validation, y_validation))"
   ]
  },
  {
   "cell_type": "code",
   "execution_count": null,
   "metadata": {},
   "outputs": [],
   "source": [
    "def plot_train_valid(history):\n",
    "    train_loss = history.history[\"loss\"]\n",
    "    valid_loss = history.history[\"val_loss\"]\n",
    "\n",
    "    plt.figure(figsize=(12,8))\n",
    "    plt.plot(np.arange(len(train_loss)) + 1, train_loss, \"b.-\", label=\"Training loss\")\n",
    "    plt.plot(np.arange(len(valid_loss)) + 1, valid_loss, \"r.-\", label=\"Validation loss\")\n",
    "    plt.legend(fontsize=14)\n",
    "    plt.xlabel(\"Epochs\")\n",
    "    plt.ylabel(\"Loss\")\n",
    "    plt.show()"
   ]
  },
  {
   "cell_type": "code",
   "execution_count": null,
   "metadata": {},
   "outputs": [],
   "source": [
    "plot_train_valid(history)"
   ]
  },
  {
   "cell_type": "markdown",
   "metadata": {},
   "source": [
    "### Now, we use the last 10% test set to see if the prediction goes well"
   ]
  },
  {
   "cell_type": "code",
   "execution_count": null,
   "metadata": {},
   "outputs": [],
   "source": [
    "y_predict = model.predict(X_test)"
   ]
  },
  {
   "cell_type": "code",
   "execution_count": null,
   "metadata": {},
   "outputs": [],
   "source": [
    "plt.figure(figsize=(12,8))\n",
    "plt.plot(y_test, 'b.-', label='Actual')\n",
    "plt.plot(y_predict, 'r', label='Predict')\n",
    "plt.legend(loc='best')\n",
    "plt.show()"
   ]
  },
  {
   "cell_type": "markdown",
   "metadata": {},
   "source": [
    "### Anything counter intuitive about the prediction?"
   ]
  },
  {
   "cell_type": "code",
   "execution_count": null,
   "metadata": {},
   "outputs": [],
   "source": [
    "# your code here\n"
   ]
  },
  {
   "cell_type": "markdown",
   "metadata": {},
   "source": [
    "## 3. Now, try the above using LSTM"
   ]
  },
  {
   "cell_type": "code",
   "execution_count": null,
   "metadata": {},
   "outputs": [],
   "source": [
    "# your code here\n"
   ]
  },
  {
   "cell_type": "markdown",
   "metadata": {},
   "source": [
    "## 4. Multiple days prediction"
   ]
  },
  {
   "cell_type": "markdown",
   "metadata": {},
   "source": [
    "### Complete the function similar to the above (graded)"
   ]
  },
  {
   "cell_type": "code",
   "execution_count": null,
   "metadata": {},
   "outputs": [],
   "source": [
    "# complete the function by yourself\n",
    "def multi_matrization(seq, window, out_size):\n",
    "    "
   ]
  },
  {
   "cell_type": "markdown",
   "metadata": {},
   "source": [
    "### Tensorflow training with LSTM (graded)"
   ]
  },
  {
   "cell_type": "code",
   "execution_count": null,
   "metadata": {},
   "outputs": [],
   "source": []
  },
  {
   "cell_type": "markdown",
   "metadata": {},
   "source": [
    "## 5. Multiple sequences as input"
   ]
  },
  {
   "cell_type": "code",
   "execution_count": 88,
   "metadata": {},
   "outputs": [],
   "source": [
    "goog_mult = goog[['Open', 'High', 'Low', 'Close', 'Volume']].to_numpy()"
   ]
  },
  {
   "cell_type": "code",
   "execution_count": 91,
   "metadata": {},
   "outputs": [],
   "source": [
    "goog_mult_norm = goog_mult.copy()"
   ]
  },
  {
   "cell_type": "code",
   "execution_count": 92,
   "metadata": {},
   "outputs": [],
   "source": [
    "for i in range(5):\n",
    "    mean = goog_mult[:, i].mean()\n",
    "    std = goog_mult[:, i].std()\n",
    "    goog_mult_norm[:, i] = (goog_mult[:, i] - mean)/std"
   ]
  },
  {
   "cell_type": "code",
   "execution_count": 93,
   "metadata": {},
   "outputs": [
    {
     "data": {
      "text/plain": [
       "array([[-1.28439948, -1.28073017, -1.28673282, -1.2828521 ,  4.71071204],\n",
       "       [-1.28297513, -1.27371132, -1.28027857, -1.27162262,  1.98217388],\n",
       "       [-1.26923929, -1.26755933, -1.26812356, -1.27008684,  1.40980114],\n",
       "       ...,\n",
       "       [ 1.7596444 ,  1.80621532,  1.7061307 ,  1.81955535, -0.55228015],\n",
       "       [ 1.82266409,  1.87268142,  1.82502578,  1.86478343, -0.56319256],\n",
       "       [ 1.75103784,  1.74463309,  1.70889893,  1.70302117, -0.58102322]])"
      ]
     },
     "execution_count": 93,
     "metadata": {},
     "output_type": "execute_result"
    }
   ],
   "source": [
    "goog_mult_norm"
   ]
  },
  {
   "cell_type": "code",
   "execution_count": 94,
   "metadata": {},
   "outputs": [
    {
     "data": {
      "text/plain": [
       "(3932, 5)"
      ]
     },
     "execution_count": 94,
     "metadata": {},
     "output_type": "execute_result"
    }
   ],
   "source": [
    "goog_mult.shape"
   ]
  },
  {
   "cell_type": "code",
   "execution_count": 95,
   "metadata": {},
   "outputs": [],
   "source": [
    "X = np.zeros((3922, 10, 5))#10就是10天绑在一起作为一组，变成三维，变成10*5的matrix"
   ]
  },
  {
   "cell_type": "code",
   "execution_count": 96,
   "metadata": {},
   "outputs": [],
   "source": [
    "for i in range(3922):\n",
    "    X[i,:,:] = goog_mult_norm[i:i+10, :]"
   ]
  },
  {
   "cell_type": "code",
   "execution_count": 97,
   "metadata": {},
   "outputs": [
    {
     "data": {
      "text/plain": [
       "array([[-1.28439948, -1.28073017, -1.28673282, -1.2828521 ,  4.71071204],\n",
       "       [-1.28297513, -1.27371132, -1.28027857, -1.27162262,  1.98217388],\n",
       "       [-1.26923929, -1.26755933, -1.26812356, -1.27008684,  1.40980114],\n",
       "       [-1.26854828, -1.27018791, -1.27591414, -1.27646948,  1.03364027],\n",
       "       [-1.27740464, -1.27522135, -1.27547343, -1.27487733,  0.27616717],\n",
       "       [-1.27741874, -1.27529126, -1.27436456, -1.27218621,  0.01443107],\n",
       "       [-1.27297646, -1.27435448, -1.27290027, -1.27466599, -0.0959871 ],\n",
       "       [-1.27695336, -1.27873078, -1.2781319 , -1.28049913, -0.22287964],\n",
       "       [-1.28115591, -1.28121953, -1.27791865, -1.2799919 , -0.25774461],\n",
       "       [-1.28059181, -1.28225418, -1.28145854, -1.28297892,  0.26988351]])"
      ]
     },
     "execution_count": 97,
     "metadata": {},
     "output_type": "execute_result"
    }
   ],
   "source": [
    "X[0,:,:]"
   ]
  },
  {
   "cell_type": "code",
   "execution_count": 98,
   "metadata": {},
   "outputs": [],
   "source": [
    "y = goog_mult_norm[10:,3]"
   ]
  },
  {
   "cell_type": "code",
   "execution_count": 99,
   "metadata": {},
   "outputs": [
    {
     "data": {
      "text/plain": [
       "(3922,)"
      ]
     },
     "execution_count": 99,
     "metadata": {},
     "output_type": "execute_result"
    }
   ],
   "source": [
    "y.shape"
   ]
  },
  {
   "cell_type": "code",
   "execution_count": 100,
   "metadata": {},
   "outputs": [],
   "source": [
    "# reserve the last 10% for model testing\n",
    "\n",
    "seq_len = goog.shape[0]\n",
    "test_size = int(0.9*seq_len)\n",
    "\n",
    "X_new, y_new = X[:test_size,:,:], y[:test_size]\n",
    "X_test, y_test = X[test_size:,:,:], y[test_size:]"
   ]
  },
  {
   "cell_type": "code",
   "execution_count": 101,
   "metadata": {},
   "outputs": [],
   "source": [
    "X_train, X_validation, y_train, y_validation = train_test_split(X_new, y_new, test_size = 0.2)"
   ]
  },
  {
   "cell_type": "code",
   "execution_count": 102,
   "metadata": {},
   "outputs": [
    {
     "data": {
      "text/plain": [
       "(10, 5)"
      ]
     },
     "execution_count": 102,
     "metadata": {},
     "output_type": "execute_result"
    }
   ],
   "source": [
    "X_train.shape[-2:]"
   ]
  },
  {
   "cell_type": "code",
   "execution_count": 103,
   "metadata": {},
   "outputs": [
    {
     "data": {
      "text/plain": [
       "(2830,)"
      ]
     },
     "execution_count": 103,
     "metadata": {},
     "output_type": "execute_result"
    }
   ],
   "source": [
    "y_train.shape"
   ]
  },
  {
   "cell_type": "code",
   "execution_count": 104,
   "metadata": {},
   "outputs": [
    {
     "data": {
      "text/plain": [
       "(708, 10, 5)"
      ]
     },
     "execution_count": 104,
     "metadata": {},
     "output_type": "execute_result"
    }
   ],
   "source": [
    "X_validation.shape"
   ]
  },
  {
   "cell_type": "code",
   "execution_count": 105,
   "metadata": {},
   "outputs": [
    {
     "name": "stdout",
     "output_type": "stream",
     "text": [
      "INFO:tensorflow:Using MirroredStrategy with devices ('/job:localhost/replica:0/task:0/device:GPU:0',)\n"
     ]
    }
   ],
   "source": [
    "mirrored_strategy = tf.distribute.MirroredStrategy(\n",
    "    cross_device_ops=tf.distribute.HierarchicalCopyAllReduce())"
   ]
  },
  {
   "cell_type": "code",
   "execution_count": 106,
   "metadata": {},
   "outputs": [
    {
     "name": "stdout",
     "output_type": "stream",
     "text": [
      "Model: \"sequential_11\"\n",
      "_________________________________________________________________\n",
      "Layer (type)                 Output Shape              Param #   \n",
      "=================================================================\n",
      "lstm_22 (LSTM)               (None, 10, 40)            7360      \n",
      "_________________________________________________________________\n",
      "lstm_23 (LSTM)               (None, 40)                12960     \n",
      "_________________________________________________________________\n",
      "dense_11 (Dense)             (None, 1)                 41        \n",
      "=================================================================\n",
      "Total params: 20,361\n",
      "Trainable params: 20,361\n",
      "Non-trainable params: 0\n",
      "_________________________________________________________________\n"
     ]
    }
   ],
   "source": [
    "with mirrored_strategy.scope():\n",
    "    model = keras.models.Sequential([\n",
    "        keras.layers.LSTM(40, return_sequences=True, input_shape = [10, 5]),\n",
    "        keras.layers.LSTM(40),\n",
    "#        keras.layers.Flatten(),\n",
    "        keras.layers.Dense(1)\n",
    "    ])\n",
    "    \n",
    "model.summary()\n",
    "model.compile(loss='mse', optimizer=\"adam\")"
   ]
  },
  {
   "cell_type": "code",
   "execution_count": 107,
   "metadata": {},
   "outputs": [
    {
     "name": "stdout",
     "output_type": "stream",
     "text": [
      "Train on 2830 samples, validate on 708 samples\n",
      "Epoch 1/20\n",
      "2830/2830 [==============================] - 8s 3ms/sample - loss: 0.0585 - val_loss: 0.0048\n",
      "Epoch 2/20\n",
      "2830/2830 [==============================] - 1s 230us/sample - loss: 0.0032 - val_loss: 0.0028\n",
      "Epoch 3/20\n",
      "2830/2830 [==============================] - 1s 223us/sample - loss: 0.0024 - val_loss: 0.0026\n",
      "Epoch 4/20\n",
      "2830/2830 [==============================] - 1s 229us/sample - loss: 0.0023 - val_loss: 0.0022\n",
      "Epoch 5/20\n",
      "2830/2830 [==============================] - 1s 226us/sample - loss: 0.0022 - val_loss: 0.0023\n",
      "Epoch 6/20\n",
      "2830/2830 [==============================] - ETA: 0s - loss: 0.002 - 1s 232us/sample - loss: 0.0020 - val_loss: 0.0023\n",
      "Epoch 7/20\n",
      "2830/2830 [==============================] - 1s 264us/sample - loss: 0.0019 - val_loss: 0.0022\n",
      "Epoch 8/20\n",
      "2830/2830 [==============================] - 1s 232us/sample - loss: 0.0019 - val_loss: 0.0019\n",
      "Epoch 9/20\n",
      "2830/2830 [==============================] - 1s 252us/sample - loss: 0.0018 - val_loss: 0.0019\n",
      "Epoch 10/20\n",
      "2830/2830 [==============================] - 1s 290us/sample - loss: 0.0017 - val_loss: 0.0018\n",
      "Epoch 11/20\n",
      "2830/2830 [==============================] - 1s 229us/sample - loss: 0.0018 - val_loss: 0.0019\n",
      "Epoch 12/20\n",
      "2830/2830 [==============================] - 1s 235us/sample - loss: 0.0017 - val_loss: 0.0018\n",
      "Epoch 13/20\n",
      "2830/2830 [==============================] - 1s 230us/sample - loss: 0.0017 - val_loss: 0.0020\n",
      "Epoch 14/20\n",
      "2830/2830 [==============================] - 1s 243us/sample - loss: 0.0015 - val_loss: 0.0016\n",
      "Epoch 15/20\n",
      "2830/2830 [==============================] - 1s 227us/sample - loss: 0.0016 - val_loss: 0.0020\n",
      "Epoch 16/20\n",
      "2830/2830 [==============================] - 1s 238us/sample - loss: 0.0016 - val_loss: 0.0018\n",
      "Epoch 17/20\n",
      "2830/2830 [==============================] - 1s 255us/sample - loss: 0.0015 - val_loss: 0.0015\n",
      "Epoch 18/20\n",
      "2830/2830 [==============================] - 1s 225us/sample - loss: 0.0014 - val_loss: 0.0014\n",
      "Epoch 19/20\n",
      "2830/2830 [==============================] - 1s 235us/sample - loss: 0.0013 - val_loss: 0.0013\n",
      "Epoch 20/20\n",
      "2830/2830 [==============================] - 1s 229us/sample - loss: 0.0012 - val_loss: 0.0014\n"
     ]
    }
   ],
   "source": [
    "history = model.fit(X_train, y_train, epochs=20,\n",
    "                    validation_data=(X_validation, y_validation))"
   ]
  },
  {
   "cell_type": "code",
   "execution_count": 72,
   "metadata": {},
   "outputs": [],
   "source": [
    "def plot_train_valid(history):\n",
    "    train_loss = history.history[\"loss\"]\n",
    "    valid_loss = history.history[\"val_loss\"]\n",
    "\n",
    "    plt.figure(figsize=(12,8))\n",
    "    plt.plot(np.arange(len(train_loss)) + 1, train_loss, \"b.-\", label=\"Training loss\")\n",
    "    plt.plot(np.arange(len(valid_loss)) + 1, valid_loss, \"r.-\", label=\"Validation loss\")\n",
    "    plt.legend(fontsize=14)\n",
    "    plt.xlabel(\"Epochs\")\n",
    "    plt.ylabel(\"Loss\")\n",
    "    plt.show()"
   ]
  },
  {
   "cell_type": "code",
   "execution_count": 73,
   "metadata": {},
   "outputs": [
    {
     "data": {
      "image/png": "[encoded data removed]",
      "text/plain": [
       "<Figure size 864x576 with 1 Axes>"
      ]
     },
     "metadata": {
      "needs_background": "light"
     },
     "output_type": "display_data"
    }
   ],
   "source": [
    "plot_train_valid(history)"
   ]
  },
  {
   "cell_type": "code",
   "execution_count": 108,
   "metadata": {},
   "outputs": [],
   "source": [
    "y_predict = model.predict(X_test)"
   ]
  },
  {
   "cell_type": "code",
   "execution_count": 109,
   "metadata": {},
   "outputs": [
    {
     "data": {
      "image/png": "[encoded data removed]",
      "text/plain": [
       "<Figure size 864x576 with 1 Axes>"
      ]
     },
     "metadata": {
      "needs_background": "light"
     },
     "output_type": "display_data"
    }
   ],
   "source": [
    "plt.figure(figsize=(12,8))\n",
    "plt.plot(y_test*goog_mult[:, 3].std()+goog_mult[:, 3].mean(), 'b', label='Actual')\n",
    "plt.plot(y_predict*goog_mult[:, 3].std()+goog_mult[:, 3].mean(), 'r.-', label='Predict')\n",
    "plt.legend(loc='best')\n",
    "plt.show()"
   ]
  },
  {
   "cell_type": "code",
   "execution_count": 113,
   "metadata": {},
   "outputs": [
    {
     "data": {
      "text/plain": [
       "[<matplotlib.lines.Line2D at 0x2105667eb88>]"
      ]
     },
     "execution_count": 113,
     "metadata": {},
     "output_type": "execute_result"
    },
    {
     "data": {
      "image/png": "[encoded data removed]",
      "text/plain": [
       "<Figure size 432x288 with 1 Axes>"
      ]
     },
     "metadata": {
      "needs_background": "light"
     },
     "output_type": "display_data"
    }
   ],
   "source": [
    "plt.plot(y_test-y_predict[:,0])"
   ]
  },
  {
   "cell_type": "code",
   "execution_count": null,
   "metadata": {},
   "outputs": [],
   "source": []
  }
 ],
 "metadata": {
  "kernelspec": {
   "display_name": "Python 3",
   "language": "python",
   "name": "python3"
  },
  "language_info": {
   "codemirror_mode": {
    "name": "ipython",
    "version": 3
   },
   "file_extension": ".py",
   "mimetype": "text/x-python",
   "name": "python",
   "nbconvert_exporter": "python",
   "pygments_lexer": "ipython3",
   "version": "3.7.1"
  }
 },
 "nbformat": 4,
 "nbformat_minor": 4
}
